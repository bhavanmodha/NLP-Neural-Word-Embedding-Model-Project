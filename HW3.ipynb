{
  "nbformat": 4,
  "nbformat_minor": 0,
  "metadata": {
    "colab": {
      "provenance": []
    },
    "kernelspec": {
      "name": "python3",
      "display_name": "Python 3"
    }
  },
  "cells": [
    {
      "cell_type": "markdown",
      "metadata": {
        "id": "dQ0Hl4aY8m5e"
      },
      "source": [
        "**CS 6320.002: Natural Language Processing**\n",
        "\n",
        "**Fall 2023**\n",
        "\n",
        "**Homework 3 --- 55 points**\n",
        "\n",
        "**Issued 11 Oct. 2023**\n",
        "\n",
        "**Due 11:59pm CST 06 Nov. 2023**\n",
        "\n",
        "**Deliverables:** This completed notebook and your saved model `hw3.pickle`.\n",
        "\n",
        "Warning! This assignment trains a neural network on a large dataset. Training can take a long time. Start early so you have time to train your model!"
      ]
    },
    {
      "cell_type": "markdown",
      "metadata": {
        "id": "RaWA05m18WtZ"
      },
      "source": [
        "# Getting Started"
      ]
    },
    {
      "cell_type": "markdown",
      "metadata": {
        "id": "yjFIUJko9r61"
      },
      "source": [
        "We are going to implement Bengio et al.'s 2003 neural language model. This model will allow us to train word embeddings that we will use to perform some interesting tasks later in the assignment.\n",
        "\n",
        "We will be using PyTorch, but we will implement the neural network from scratch in this assignment (as opposed to using the prebuilt layers in PyTorch's neural network module)."
      ]
    },
    {
      "cell_type": "markdown",
      "metadata": {
        "id": "x3nLry2U82G3"
      },
      "source": [
        "## Install Libraries and Download the Training Sata"
      ]
    },
    {
      "cell_type": "code",
      "metadata": {
        "id": "IMxVYEJD8j6j",
        "outputId": "37954f1c-6ce2-477c-fc97-0e39f74e316e",
        "colab": {
          "base_uri": "https://localhost:8080/"
        }
      },
      "source": [
        "import nltk\n",
        "\n",
        "nltk.download('brown')\n",
        "\n",
        "from nltk.corpus import brown"
      ],
      "execution_count": 46,
      "outputs": [
        {
          "output_type": "stream",
          "name": "stderr",
          "text": [
            "[nltk_data] Downloading package brown to /root/nltk_data...\n",
            "[nltk_data]   Package brown is already up-to-date!\n"
          ]
        }
      ]
    },
    {
      "cell_type": "markdown",
      "metadata": {
        "id": "UC4LxcEs_hB4"
      },
      "source": [
        "# Loading and Preprocessing the Data"
      ]
    },
    {
      "cell_type": "markdown",
      "metadata": {
        "id": "hNO-kEd7_qCA"
      },
      "source": [
        "First we load the training corpus using the code snippet below. We are using the Brown corpus again, which we previously used in HW3. Because of runtime and memory constraints, we will only use one third of it for training."
      ]
    },
    {
      "cell_type": "code",
      "metadata": {
        "id": "OLUEobRV_2BO",
        "outputId": "2d709c97-928c-4724-8d57-4e31dc28a00e",
        "colab": {
          "base_uri": "https://localhost:8080/"
        }
      },
      "source": [
        "brown_corpus = brown.sents()\n",
        "brown_corpus = brown_corpus[:int(len(brown_corpus)/3)]\n",
        "print(brown_corpus[0])"
      ],
      "execution_count": 47,
      "outputs": [
        {
          "output_type": "stream",
          "name": "stdout",
          "text": [
            "['The', 'Fulton', 'County', 'Grand', 'Jury', 'said', 'Friday', 'an', 'investigation', 'of', \"Atlanta's\", 'recent', 'primary', 'election', 'produced', '``', 'no', 'evidence', \"''\", 'that', 'any', 'irregularities', 'took', 'place', '.']\n"
          ]
        }
      ]
    },
    {
      "cell_type": "markdown",
      "metadata": {
        "id": "rIFyW_kPAQnP"
      },
      "source": [
        "We can see that `brown_corpus` has already had sentence segmentation and word tokenization done for us. It is given to us as a list of lists (aka. sentences) of strings (aka. words)."
      ]
    },
    {
      "cell_type": "markdown",
      "metadata": {
        "id": "bmnAVe2LBjmL"
      },
      "source": [
        "### Lowercasing --- 5 points"
      ]
    },
    {
      "cell_type": "markdown",
      "metadata": {
        "id": "xQjUJsOgBnQF"
      },
      "source": [
        "As with most word embedding models, we will convert all words to lower case. There is one complication, which is that `brown_corpus` is not a \"normal\" list of lists; it is actually an NLTK class called `ConcatenatedCorpusView` that is immutable, so we can't do the lowercasing in place. We must create a new list of lists to hold the lowercased version of the corpus. Fill in the following code snippet to do so."
      ]
    },
    {
      "cell_type": "code",
      "metadata": {
        "id": "ZPV8McslA-H_",
        "outputId": "49d81adb-8c09-475f-dd53-3bf1818a41ef",
        "colab": {
          "base_uri": "https://localhost:8080/"
        }
      },
      "source": [
        "# Fill in this code snippet to convert all words in the training corpus to lower case.\n",
        "# The argument original_corpus is an nltk.corpus.reader.util.ConcatenatedCorpusView\n",
        "# The return type should be a list of lists of strings\n",
        "def lowercase_corpus(original_corpus):\n",
        "  return [[w.lower() for w in sentence] for sentence in original_corpus]\n",
        "\n",
        "corpus = lowercase_corpus(brown_corpus)\n",
        "print(corpus[0])"
      ],
      "execution_count": 48,
      "outputs": [
        {
          "output_type": "stream",
          "name": "stdout",
          "text": [
            "['the', 'fulton', 'county', 'grand', 'jury', 'said', 'friday', 'an', 'investigation', 'of', \"atlanta's\", 'recent', 'primary', 'election', 'produced', '``', 'no', 'evidence', \"''\", 'that', 'any', 'irregularities', 'took', 'place', '.']\n"
          ]
        }
      ]
    },
    {
      "cell_type": "markdown",
      "metadata": {
        "id": "lSa-jXjMBuKJ"
      },
      "source": [
        "### The Vocabulary and Unknown Word Token --- 10 points"
      ]
    },
    {
      "cell_type": "markdown",
      "metadata": {
        "id": "m16FtSkxCaaN"
      },
      "source": [
        "Next we need to get the vocabulary of the training corpus. We also want to have an unknown word token `<unk>` so that we have at least some kind of embedding for out-of-vocabulary words that weren't seen at training time.\n",
        "\n",
        "First, let's count how often each word occurs in the training data. Fill in the following code snippet to do so:"
      ]
    },
    {
      "cell_type": "code",
      "metadata": {
        "id": "BVpJg3O3D0lP",
        "outputId": "0010dfd3-2aa1-4d2e-b928-b3c9d137b2fc",
        "colab": {
          "base_uri": "https://localhost:8080/"
        }
      },
      "source": [
        "from collections import Counter\n",
        "\n",
        "# Fill in this code snippet to count how many times each word occurs in the training corpus.\n",
        "# The argument corpus is a list of lists of strings\n",
        "# The return type should be a dictionary (or collections.Counter)\n",
        "def get_word_counts(corpus):\n",
        "  word_count = {}\n",
        "  for sentence in corpus:\n",
        "    for word in sentence:\n",
        "      if word in word_count:\n",
        "        word_count[word] += 1\n",
        "      else:\n",
        "        word_count[word] = 1\n",
        "  return word_count\n",
        "\n",
        "word_counts = get_word_counts(corpus)\n",
        "print(len(word_counts))\n"
      ],
      "execution_count": 49,
      "outputs": [
        {
          "output_type": "stream",
          "name": "stdout",
          "text": [
            "29931\n"
          ]
        }
      ]
    },
    {
      "cell_type": "markdown",
      "metadata": {
        "id": "lsiUSnALJbew"
      },
      "source": [
        "Many of the words in the training data are rare words, ie. they have very small counts. In fact, many words occur only once in the entire training corpus. We want to replace those words that occur only once with the meta-token `<unk>` so that we can use those words' contexts to train the unknown word token's embedding. Fill in the following code snippet to do this replacement:"
      ]
    },
    {
      "cell_type": "code",
      "metadata": {
        "id": "QnOaYcQTKAKq",
        "outputId": "820b67f1-6642-4916-cf63-1278f6120b8b",
        "colab": {
          "base_uri": "https://localhost:8080/"
        }
      },
      "source": [
        "# Fill in this code snippet to replace words in the training corpus that occur only once with \"<unk>\"\n",
        "# The argument corpus is a list of lists of strings\n",
        "# The argument word_counts is a dictionary (or collections.Counter)\n",
        "# No return value; modifies corpus in place\n",
        "def replace_rare_words(corpus, word_counts):\n",
        "  for i in range(len(corpus)):\n",
        "    sentence = corpus[i]\n",
        "    for j in range(len(sentence)):\n",
        "      word = sentence[j]\n",
        "      if word_counts[word] == 1:\n",
        "        sentence[j] = '<unk>'\n",
        "\n",
        "replace_rare_words(corpus, word_counts)\n",
        "new_word_counts = get_word_counts(corpus)\n",
        "print(len(new_word_counts))"
      ],
      "execution_count": 50,
      "outputs": [
        {
          "output_type": "stream",
          "name": "stdout",
          "text": [
            "15630\n"
          ]
        }
      ]
    },
    {
      "cell_type": "markdown",
      "metadata": {
        "id": "8zqPtsfjN57G"
      },
      "source": [
        "Finally, here is a bit of code to get the new (smaller) vocabulary and also add the start and end tokens. We will train a word embedding for every word in this list."
      ]
    },
    {
      "cell_type": "code",
      "metadata": {
        "id": "G4ZS3mpetfkZ",
        "outputId": "86a5101e-add0-4e96-e4dd-337b8f533609",
        "colab": {
          "base_uri": "https://localhost:8080/"
        }
      },
      "source": [
        "vocabulary = list(new_word_counts.keys())\n",
        "vocabulary.extend(['<s>', '</s>'])\n",
        "vocabulary.sort()\n",
        "print(len(vocabulary))"
      ],
      "execution_count": 51,
      "outputs": [
        {
          "output_type": "stream",
          "name": "stdout",
          "text": [
            "15632\n"
          ]
        }
      ]
    },
    {
      "cell_type": "markdown",
      "metadata": {
        "id": "QpGhCu-6P3A8"
      },
      "source": [
        "# Formatting the Data for the Neural Network --- 10 points"
      ]
    },
    {
      "cell_type": "markdown",
      "metadata": {
        "id": "y2mM8a2FkqR-"
      },
      "source": [
        "Now let's format our preprocessed data so tha we can give it to a neural network as input. The network in this part of the assignment is Bengio et al.'s neural language model. Recall from lecture that the input to this model is the set of $k$ context words $w_{i-k}, \\ldots, w_{i-1}$ of a given word $w_i$, where each context word is represented as a one-hot vector."
      ]
    },
    {
      "cell_type": "markdown",
      "metadata": {
        "id": "QGYT3PKcmz2q"
      },
      "source": [
        "A one-hot vector is simply a feature vector where every position is 0 except for one, which is 1. In this case, each position in the vector corresponds to a word in the vocabulary. For example, if our vocabulary is `[\"apple\", \"banana\", \"coconut\"]`, then the vector for \"apple\" is `(1,0,0)`, while the vector for \"banana\" is `(0,1,0)`. The position that is 1 in the vector tells you which word the vector represents.\n",
        "\n",
        "So our next step is to convert a word from the training data into its one-hot vector representation. For convenience, let's first build a dictionary so that we can look up words' positions more quickly."
      ]
    },
    {
      "cell_type": "code",
      "metadata": {
        "id": "tA30dMRkpQK1"
      },
      "source": [
        "vocabulary = {vocabulary[i]:i for i in range(len(vocabulary))}"
      ],
      "execution_count": 52,
      "outputs": []
    },
    {
      "cell_type": "markdown",
      "metadata": {
        "id": "eb9JS8ZipifV"
      },
      "source": [
        "Now fill in the following code snippet to convert a word into a one-hot vector. Make sure your code can handle the case where the word is not in the vocabulary! (HINT: The return type is a `torch.Tensor`, which supports many of the same functions as the `numpy.array` data type that we have previously used. See [the documentation here](https://pytorch.org/docs/stable/tensors.html).)"
      ]
    },
    {
      "cell_type": "code",
      "metadata": {
        "id": "0nJVjkS8nmSk",
        "outputId": "5dc377b9-f77e-4436-80ed-8e44c768f0d6",
        "colab": {
          "base_uri": "https://localhost:8080/"
        }
      },
      "source": [
        "import torch\n",
        "\n",
        "# Fill in this code snippet to convert a word into a one-hot vector\n",
        "# The argument word is a string\n",
        "# The argument vocabulary is a dictionary {string: int}\n",
        "# The return type should be a torch.Tensor of size |V|\n",
        "def convert_to_one_hot(word, vocabulary):\n",
        "  oneHotVector = torch.zeros(len(vocabulary))\n",
        "  if word in vocabulary:\n",
        "      oneHotVector[vocabulary[word]] = 1\n",
        "      return oneHotVector\n",
        "  oneHotVector[vocabulary['<unk>']] = 1\n",
        "  return oneHotVector\n",
        "\n",
        "print(convert_to_one_hot('!', vocabulary))"
      ],
      "execution_count": 54,
      "outputs": [
        {
          "output_type": "stream",
          "name": "stdout",
          "text": [
            "tensor([1., 0., 0.,  ..., 0., 0., 0.])\n"
          ]
        }
      ]
    },
    {
      "cell_type": "markdown",
      "metadata": {
        "id": "ATDjJ-hildRc"
      },
      "source": [
        "Now we just need to reorganize our training data into \"n-grams\" like in HW1. We want to build pairs `(word, context)`, where `word` is the index of the word in the vocabulary and `context` is a list of one-hot vectors, for every word in the training data. Fill in the following code snippet to do this.\n",
        "\n",
        "There are a few wrinkles to keep in mind for this function:\n",
        "\n",
        "- Because the training set is so large, we don't have enough memory to hold all the one-hot context vectors for the entire training set; we need to use a generator function instead. When we train the neural network in a later section, we will want to run the training examples in random order, so we also need to randomize the order of the training pairs yielded by this function.\n",
        "\n",
        "- While we are generating \"n-grams\", we are using $k$, not $n$, where $k = n-1$. Also, remember to use the start and end tokens where necessary."
      ]
    },
    {
      "cell_type": "code",
      "metadata": {
        "id": "wP3Q6zdQuiCV",
        "outputId": "c1a8ef3d-f1f0-446f-bc82-0e2bf30e3120",
        "colab": {
          "base_uri": "https://localhost:8080/"
        }
      },
      "source": [
        "import random\n",
        "\n",
        "# Fill in this code snippet to convert the training data into (word_index, [context_vectors]) pairs\n",
        "# The argument corpus is a list of lists of strings\n",
        "# The argument vocabulary is a dictionary {string: int}\n",
        "# The argument k is an int\n",
        "# The yield type should be a list of tuples (int, list of torch.Tensors)\n",
        "\n",
        "\n",
        "def generate_training_pairs(corpus, vocabulary, k=4):\n",
        "  sentSequence = list(range(0, len(corpus)))\n",
        "  random.shuffle(sentSequence)\n",
        "  for i in range(0, len(corpus)):\n",
        "    sent = corpus[sentSequence[i]]\n",
        "    updated_sentence = ['<s>']*k + sent + ['</s>']\n",
        "    # print(updated_sentence)\n",
        "    wordSequence = list(range(k, len(updated_sentence)))\n",
        "    # print(wordSequence)\n",
        "    random.shuffle(wordSequence)\n",
        "    # print(wordSequence)\n",
        "    for word_index in wordSequence:\n",
        "      word = updated_sentence[word_index]\n",
        "      context_vectors = []\n",
        "      for j in range(1, k+1):\n",
        "        context_vectors.append(convert_to_one_hot(updated_sentence[word_index-j], vocabulary))\n",
        "      # print(word)\n",
        "      # break\n",
        "      yield (vocabulary[word], context_vectors)\n",
        "\n",
        "for word, _ in generate_training_pairs(corpus, vocabulary):\n",
        "  print(word)\n",
        "  break\n",
        "\n",
        "for word, _ in generate_training_pairs(corpus, vocabulary):\n",
        "  print(word)\n",
        "  break\n",
        "for word, _ in generate_training_pairs(corpus, vocabulary):\n",
        "  print(word)\n",
        "  break"
      ],
      "execution_count": 55,
      "outputs": [
        {
          "output_type": "stream",
          "name": "stdout",
          "text": [
            "15150\n",
            "6671\n",
            "6775\n"
          ]
        }
      ]
    },
    {
      "cell_type": "markdown",
      "metadata": {
        "id": "TCXWStj16rM9"
      },
      "source": [
        "# Building the Neural Network --- 15 points"
      ]
    },
    {
      "cell_type": "markdown",
      "metadata": {
        "id": "6bw2yrvWiFA9"
      },
      "source": [
        "Now we are ready to build the neural network itself. Recall from lecture that Bengio et al.'s network is as follows:\n",
        "\n",
        "$\\mathbf{e}_j = \\mathbf{Ew}_j \\text{ for } j \\in [i-k, i-1]$\n",
        "\n",
        "$\\mathbf{x} = [\\mathbf{e}_{i-k}, \\ldots, \\mathbf{e}_{i-1}]$\n",
        "\n",
        "$\\mathbf{h} = \\text{tanh}(\\mathbf{W_1x} + \\mathbf{b_1})$\n",
        "\n",
        "$\\mathbf{\\hat{y}} = \\text{softmax}(\\mathbf{W_2h} + \\mathbf{b_2})$\n",
        "\n",
        "Here $\\mathbf{w_j}$ refers to the one-hot vectors we just generated for the context works. The output $\\mathbf{\\hat{y}}$ is the language model probability distribution $p(w_i | w_{i-k}, \\ldots, w_{i-1})$ over words in the vocabulary. After this network is trained, the embedding layer $\\mathbf{E}$ can be used to get word embeddings for all words in the vocabulary."
      ]
    },
    {
      "cell_type": "markdown",
      "metadata": {
        "id": "obq90IKhkQGr"
      },
      "source": [
        "Below is the skeleton code for the entire neural network; the following sections give specific instructions for filling different parts of the code. You should read one section and then come back to this code block and fill in the appropriate functions.\n",
        "\n",
        "Again, keep in mind that we are implementing the network from scratch; there are pre-built layers in the `torch.nn` library that could do this for us, but we are not using them in this assignment."
      ]
    },
    {
      "cell_type": "code",
      "metadata": {
        "id": "9Mda10Bd9wQj",
        "outputId": "a16af92e-574e-48b6-f0c7-4759c14e096f",
        "colab": {
          "base_uri": "https://localhost:8080/"
        }
      },
      "source": [
        "# Fill in this skeleton code to build the neural network following the instructions in the sections below\n",
        "\n",
        "from math import sqrt\n",
        "import torch.nn.functional\n",
        "\n",
        "# Fill in this function to initialize a parameter using Xavier initialization\n",
        "# Also turn on Pytorch's automatic gradient calculations\n",
        "# The argument parameter_size is a tuple of ints\n",
        "# The return type should be a torch.Tensor\n",
        "def initialize_parameter(parameter_size):\n",
        "  n_in, n_out = parameter_size\n",
        "  params = torch.empty((n_in, n_out)).normal_(mean=0, std=sqrt(2/(n_in+n_out)))\n",
        "  params.requires_grad_()\n",
        "  return params\n",
        "\n",
        "class NLM:\n",
        "\n",
        "  # Fill in this function to initialize parameters of the appropriate sizes\n",
        "  # The argument vocabulary_size is an int\n",
        "  # The argument embedding_length is an int\n",
        "  # No return value\n",
        "\n",
        "  def __init__(self, vocabulary_size, embedding_length=64, k=4):\n",
        "    self.E = initialize_parameter((embedding_length, vocabulary_size))\n",
        "    total_context = k*embedding_length\n",
        "    self.W_1 = initialize_parameter((total_context, total_context))\n",
        "    self.b_1 = initialize_parameter((total_context, 1))\n",
        "    self.W_2 = initialize_parameter((vocabulary_size, total_context))\n",
        "    self.b_2 = initialize_parameter((vocabulary_size, 1))\n",
        "\n",
        "  # Fill in this function to run the network and produce the output y_hat\n",
        "  # The argument context is a list of torch.Tensors\n",
        "  # The return type should be a torch.Tensor\n",
        "  def forward_pass(self, context):\n",
        "    context_tensors = []\n",
        "    for j in range(len(context)):\n",
        "      w_j = context[j]\n",
        "      e_j = torch.matmul(self.E, w_j)\n",
        "      # x = torch.cat((x, e_j))\n",
        "      context_tensors.append(e_j)\n",
        "    x = torch.cat(context_tensors)\n",
        "    h = torch.tanh(torch.matmul(self.W_1, x).reshape(-1, 1) + self.b_1)\n",
        "    y_out = torch.nn.functional.log_softmax((torch.matmul(self.W_2, h) + self.b_2))\n",
        "    return y_out\n",
        "\n",
        "model = NLM(len(vocabulary))\n",
        "print(model)"
      ],
      "execution_count": 56,
      "outputs": [
        {
          "output_type": "stream",
          "name": "stdout",
          "text": [
            "<__main__.NLM object at 0x7bc5612e2dd0>\n"
          ]
        }
      ]
    },
    {
      "cell_type": "markdown",
      "metadata": {
        "id": "XWoXjDU9AmxR"
      },
      "source": [
        "## The Parameters"
      ]
    },
    {
      "cell_type": "markdown",
      "metadata": {
        "id": "DmiF8afwAphW"
      },
      "source": [
        "Before we talk about the individual equations, let's get one quick function out of the way. Recall that a neural network's parameters are a bunch of weight matrices (usually denoted $\\mathbf{W}$) and bias vectors (usually denoted $\\mathbf{b}$).\n",
        "\n",
        "As we discussed in class, the values in these parameters need to be initialized to random, small values. Let's use Xavier initialization, where the parameter values are sampled from a normal distribution with mean 0 and variance $\\frac{2}{(n_{in} + n_{out})}$.\n",
        "\n",
        "Fill in the function `initialize_parameter()` in the code snippet above to do this. This part can be tricky. Here are some things to keep in mind:\n",
        "\n",
        "- $n_{in}$ and $n_{out}$ are the incoming and outgoing dimensions of this parameter. If you're not sure what this means, try reading the layer-specific instructions in the next few sections.\n",
        "\n",
        "- There is a PyTorch function called `torch.randn()` that samples random numbers from a normal distribution with mean 0 and variance 1 (ie. the standard distribution); see [the documentation here](https://pytorch.org/docs/stable/generated/torch.randn.html). We can use this function as a shortcut; all we have to do is change the variance.\n",
        "\n",
        "- We also need to enable PyTorch's automatic gradient calculations for this parameter (we don't want to have to do that calculus by hand!). Use the function `torch.Tensor.requires_grad()` before returning the initialized parameter."
      ]
    },
    {
      "cell_type": "markdown",
      "metadata": {
        "id": "IC3_6wY28fTl"
      },
      "source": [
        "## The Embedding Layer"
      ]
    },
    {
      "cell_type": "markdown",
      "metadata": {
        "id": "Qwujq8Tb8icp"
      },
      "source": [
        "$\\mathbf{e}_j = \\mathbf{Ew}_j \\text{ for } j \\in [i-k, i-1]$\n",
        "\n",
        "We can see from this equation that the embedding layer $\\mathbf{E}$ is a matrix that is multiplied with a vector $\\mathbf{w}_j$ (of length $|V|$) to produce a vector $\\mathbf{e}_j$, ie. the embedding for word $w_j$.\n",
        "\n",
        "Word embeddings can be whatever length you want, as long as you have enough data to train them. 100-300 dimensions is a common range for word embedding lengths; to save some memory and compute time, we will use just 64 dimensions for this assignment.\n",
        "\n",
        "So what are the dimensions of $\\mathbf{E}$? Here's what we know:\n",
        "\n",
        "- $\\textbf{w}_j$ is a vector of length $|V|$.\n",
        "- $\\mathbf{e}_j$ is a vector of length 64.\n",
        "\n",
        "If we rewrite the above equation in terms of dimensions, we get $(n \\times m) \\cdot (|V| \\times 1) = (64 \\times 1)$, which clearly tells us what $n$ and $m$ should be. Edit the `__init__()` function in the skeleton code to initialize $\\mathbf{E}$ with the correct dimensions.\n",
        "\n",
        "Also edit the `forward_pass()` function to implement this embedding layer equation and compute the $\\mathbf{e}_j$'s. (HINT: PyTorch provides a function `torch.matmul()` that you can use; see [the documentation here](https://pytorch.org/docs/stable/generated/torch.matmul.html).)"
      ]
    },
    {
      "cell_type": "markdown",
      "metadata": {
        "id": "412se9u8mgy1"
      },
      "source": [
        "## The Concat Layer"
      ]
    },
    {
      "cell_type": "markdown",
      "metadata": {
        "id": "6Ml3devgmnzD"
      },
      "source": [
        "$\\mathbf{x} = [\\mathbf{e}_{i-k}, \\ldots, \\mathbf{e}_{i-1}]$\n",
        "\n",
        "Actually, PyTorch does not consider concatenation to be a layer, but some neural network libraries do (like Keras). This equation is very simple: the $k$ embeddings $\\mathbf{e}_j$ from the previous section need to be concatenated together to form one extra-long vector to be used in the rest of the network. In other words, this \"layer\" takes as input `k` vectors of length `embedding_length` and outputs a single vector of length `k` $\\times$ `embedding_length`.\n",
        "\n",
        "Edit the `forward_pass()` function to implement this equation and compute $\\mathbf{x}$. (HINT: PyTorch provides a function `torch.cat()` that you can use; see [the documentation here](https://pytorch.org/docs/stable/generated/torch.cat.html).)"
      ]
    },
    {
      "cell_type": "markdown",
      "metadata": {
        "id": "FybW_-rlnyQ8"
      },
      "source": [
        "## The Hidden Layer"
      ]
    },
    {
      "cell_type": "markdown",
      "metadata": {
        "id": "JicFRgAen20p"
      },
      "source": [
        "$\\mathbf{h} = \\text{tanh}(\\mathbf{W_1x} + \\mathbf{b_1})$\n",
        "\n",
        "Recall from class that the Universal Approximation Theorem tells us that a neural network with a single hidden layer can model any function we want. This is that hidden layer; it computes the intermediate representation $\\mathbf{h}$. There are two parameters, the weight matrix $\\mathbf{W}_1$ and the bias vector $\\mathbf{b}_1$.\n",
        "\n",
        "Hidden layers don't usually change the representation size, so the input and output dimensions are the same for this layer. Again, we can rewrite the equation in terms of dimensions to find out what the sizes of  $\\mathbf{W}_1$ and $\\mathbf{b}_1$ should be:\n",
        "\n",
        "$(n \\times n) \\cdot (320 \\times 1) + (m \\times 1) = (320 \\times 1)$\n",
        "\n",
        "Edit the `__init__()` function to initialize $\\mathbf{W}_1$ and $\\mathbf{b}_1$, and edit `forward_pass()` to implement this equation and compute $\\mathbf{h}$. (HINT: PyTorch provides a function `torch.tanh()` that you can use; see [the documentation here](https://pytorch.org/docs/stable/generated/torch.tanh.html).)"
      ]
    },
    {
      "cell_type": "markdown",
      "metadata": {
        "id": "Z1I3xt1atGmI"
      },
      "source": [
        "## The Output Layer"
      ]
    },
    {
      "cell_type": "markdown",
      "metadata": {
        "id": "BbFvitiftIpg"
      },
      "source": [
        "$\\mathbf{\\hat{y}} = \\text{softmax}(\\mathbf{W_2h} + \\mathbf{b_2})$\n",
        "\n",
        "Finally, we have the output layer. This layer looks a lot like the hidden layer, except it needs to output $\\mathbf{\\hat{y}}$, which is a probability distribution over the vocabulary, ie. a vector of length $|V|$.\n",
        "\n",
        "Edit the `__init__()` function to initialize $\\mathbf{W}_2$ and $\\mathbf{b}_2$, and edit `forward_pass()` to implement this equation and compute $\\mathbf{\\hat{y}}$.\n",
        "\n",
        "There is one wrinkle, which is that we don't actually want to use a raw softmax function. PyTorch provides another function `torch.nn.functional.log_softmax()` that takes the log after applying softmax; see [the documentation here](https://pytorch.org/docs/stable/nn.functional.html#log-softmax). Since we will want to get the log probabilities for calculating cross-entropy loss later anyway, we might as well do it now and take advantage of PyTorch's implementation of the log-softmax combo (there are other advantages related to numerical stability of the implementation; read the docs if you are interested in that)."
      ]
    },
    {
      "cell_type": "markdown",
      "metadata": {
        "id": "cLbbeXbbgydn"
      },
      "source": [
        "# Training with Stochastic Gradient Descent --- 10 points"
      ]
    },
    {
      "cell_type": "markdown",
      "metadata": {
        "id": "jRnjFOpxhQHB"
      },
      "source": [
        "Now that we have the neural network, it's time to train using gradient descent. For ease of implementation, we will use stochastic, rather than batch or mini-batch gradient descent, and a fixed learning rate.\n",
        "\n",
        "Training with stochastic gradient descent is basically a loop that\n",
        "- runs a single training example through the network to produce the log probability distribution over the output vocabulary, aka. the forward pass over the computation graph;\n",
        "- calculates the value of the loss function using the network output and the gold standard label;\n",
        "- takes the gradient and performs backpropagation, aka. the backward pass over the computation graph; and\n",
        "- updates the parameter weights based on the gradient and the learning rate.\n",
        "\n",
        "Fill in the code snippet below by implementing this training loop. Here are some details and hints to keep in mind:\n",
        "\n",
        "- An epoch is one pass through the entire training dataset. Most neural networks take multiple epochs to converge; for simplicity, we will use a fixed number of epochs, rather than using an adaptive approach like early stopping.\n",
        "\n",
        "- We will use the standard cross-entropy loss, aka. negative log likelihood loss, for multi-class classification; our output is a probability distribution over classes (words in the vocabulary). If the gold standard word is $w_i$, then the cross-entropy loss is $- \\log p(w_i | w_{i-k}, \\ldots, w_{i-1})$. (HINT: We can get the loss very easily by using the output of `NLM.forward_pass()`.)\n",
        "\n",
        "- PyTorch provides a function `backward()` that calculates and backpropagates the gradient for you; see [the documentation here](https://pytorch.org/docs/stable/autograd.html#torch.autograd.backward). You can call `backward()` on any variable that contains the output of a PyTorch computation graph (ie. the loss, which is calculated directly from the output of `NLM.forward_pass()`).\n",
        "\n",
        "- To do the actual updates, you can access the gradient at a given point in the computation graph using `<parameter_name>.grad` and simply assigning it a new value.\n",
        "\n",
        "- Finally, we need to reset the gradients in the computation graph to zero before the next training example is processed. You can use the \"private\" function `<parameter_name>.grad.zero_()` to do this.\n",
        "\n",
        "Before you run this code snippet, make sure you have enough time to let it run for five to seven hours!\n"
      ]
    },
    {
      "cell_type": "code",
      "metadata": {
        "id": "217ISMA6hZGr",
        "outputId": "38aa7a98-bac0-43b2-ac01-df04c5de96e0",
        "colab": {
          "base_uri": "https://localhost:8080/"
        }
      },
      "source": [
        "import datetime\n",
        "\n",
        "# Fill in this code snippet to train the neural network\n",
        "# The argument model is an NLM\n",
        "# The argument corpus is a list of lists of strings\n",
        "# The argument vocabulary is a dictionary {string: int}\n",
        "# The argument learning_rate is a float\n",
        "# No return value\n",
        "def train(model, corpus, vocabulary, learning_rate=0.1):\n",
        "  for (word_index, context_vectors) in generate_training_pairs(corpus, vocabulary):\n",
        "    y_out = model.forward_pass(context_vectors)\n",
        "    loss = -y_out[word_index]\n",
        "    loss.backward()\n",
        "\n",
        "    with torch.no_grad():\n",
        "      model.W_2 -= (learning_rate) * model.W_2.grad\n",
        "      model.b_2 -= (learning_rate) * model.b_2.grad\n",
        "      model.W_1 -= (learning_rate) * model.W_1.grad\n",
        "      model.b_1 -= (learning_rate) * model.b_1.grad\n",
        "      model.E -= (learning_rate) * model.E.grad\n",
        "\n",
        "    model.W_2.grad.zero_()\n",
        "    model.b_2.grad.zero_()\n",
        "    model.W_1.grad.zero_()\n",
        "    model.b_1.grad.zero_()\n",
        "    model.E.grad.zero_()\n",
        "\n",
        "print(datetime.datetime.now())\n",
        "train(model, corpus, vocabulary)\n",
        "print(datetime.datetime.now())"
      ],
      "execution_count": 11,
      "outputs": [
        {
          "output_type": "stream",
          "name": "stdout",
          "text": [
            "2023-11-05 19:31:18.990667\n"
          ]
        },
        {
          "output_type": "stream",
          "name": "stderr",
          "text": [
            "<ipython-input-10-027bc9a48bcb>:43: UserWarning: Implicit dimension choice for log_softmax has been deprecated. Change the call to include dim=X as an argument.\n",
            "  y_out = torch.nn.functional.log_softmax((torch.matmul(self.W_2, h) + self.b_2))\n"
          ]
        },
        {
          "output_type": "stream",
          "name": "stdout",
          "text": [
            "2023-11-06 00:12:07.733854\n"
          ]
        }
      ]
    },
    {
      "cell_type": "markdown",
      "metadata": {
        "id": "CmBKlUGZy5KA"
      },
      "source": [
        "That took a long time to train! Let's save the model so we don't lose our work."
      ]
    },
    {
      "cell_type": "code",
      "metadata": {
        "id": "m-twCArSy9qO",
        "colab": {
          "base_uri": "https://localhost:8080/",
          "height": 17
        },
        "outputId": "eac4f628-2687-4dc2-b920-a8878f71fb69"
      },
      "source": [
        "import pickle\n",
        "with open('hw3.pickle', 'wb') as f:\n",
        "  pickle.dump(model, f)\n",
        "\n",
        "from google.colab import files\n",
        "files.download('hw3.pickle')"
      ],
      "execution_count": 12,
      "outputs": [
        {
          "output_type": "display_data",
          "data": {
            "text/plain": [
              "<IPython.core.display.Javascript object>"
            ],
            "application/javascript": [
              "\n",
              "    async function download(id, filename, size) {\n",
              "      if (!google.colab.kernel.accessAllowed) {\n",
              "        return;\n",
              "      }\n",
              "      const div = document.createElement('div');\n",
              "      const label = document.createElement('label');\n",
              "      label.textContent = `Downloading \"${filename}\": `;\n",
              "      div.appendChild(label);\n",
              "      const progress = document.createElement('progress');\n",
              "      progress.max = size;\n",
              "      div.appendChild(progress);\n",
              "      document.body.appendChild(div);\n",
              "\n",
              "      const buffers = [];\n",
              "      let downloaded = 0;\n",
              "\n",
              "      const channel = await google.colab.kernel.comms.open(id);\n",
              "      // Send a message to notify the kernel that we're ready.\n",
              "      channel.send({})\n",
              "\n",
              "      for await (const message of channel.messages) {\n",
              "        // Send a message to notify the kernel that we're ready.\n",
              "        channel.send({})\n",
              "        if (message.buffers) {\n",
              "          for (const buffer of message.buffers) {\n",
              "            buffers.push(buffer);\n",
              "            downloaded += buffer.byteLength;\n",
              "            progress.value = downloaded;\n",
              "          }\n",
              "        }\n",
              "      }\n",
              "      const blob = new Blob(buffers, {type: 'application/binary'});\n",
              "      const a = document.createElement('a');\n",
              "      a.href = window.URL.createObjectURL(blob);\n",
              "      a.download = filename;\n",
              "      div.appendChild(a);\n",
              "      a.click();\n",
              "      div.remove();\n",
              "    }\n",
              "  "
            ]
          },
          "metadata": {}
        },
        {
          "output_type": "display_data",
          "data": {
            "text/plain": [
              "<IPython.core.display.Javascript object>"
            ],
            "application/javascript": [
              "download(\"download_e48aa2b6-d1ac-49e0-a51b-5d7ca7fa7782\", \"hw3.pickle\", 20336320)"
            ]
          },
          "metadata": {}
        }
      ]
    },
    {
      "cell_type": "markdown",
      "metadata": {
        "id": "jI52DA3l2pOt"
      },
      "source": [
        "If you ever need to load that saved model again (eg. because your Colab session timed out or was interrupted), you can get it back easily."
      ]
    },
    {
      "cell_type": "code",
      "metadata": {
        "id": "k321GwUh22j8",
        "outputId": "c5dfcae0-b788-4874-c884-fc45dfbab9c6",
        "colab": {
          "base_uri": "https://localhost:8080/",
          "height": 73
        }
      },
      "source": [
        "from google.colab import files\n",
        "import pickle\n",
        "\n",
        "uploaded_files = files.upload()\n",
        "f = list(uploaded_files.values())[0]\n",
        "model = pickle.loads(f)"
      ],
      "execution_count": 12,
      "outputs": [
        {
          "output_type": "display_data",
          "data": {
            "text/plain": [
              "<IPython.core.display.HTML object>"
            ],
            "text/html": [
              "\n",
              "     <input type=\"file\" id=\"files-838fc558-39fc-49b1-ac4e-d2dc2303845f\" name=\"files[]\" multiple disabled\n",
              "        style=\"border:none\" />\n",
              "     <output id=\"result-838fc558-39fc-49b1-ac4e-d2dc2303845f\">\n",
              "      Upload widget is only available when the cell has been executed in the\n",
              "      current browser session. Please rerun this cell to enable.\n",
              "      </output>\n",
              "      <script>// Copyright 2017 Google LLC\n",
              "//\n",
              "// Licensed under the Apache License, Version 2.0 (the \"License\");\n",
              "// you may not use this file except in compliance with the License.\n",
              "// You may obtain a copy of the License at\n",
              "//\n",
              "//      http://www.apache.org/licenses/LICENSE-2.0\n",
              "//\n",
              "// Unless required by applicable law or agreed to in writing, software\n",
              "// distributed under the License is distributed on an \"AS IS\" BASIS,\n",
              "// WITHOUT WARRANTIES OR CONDITIONS OF ANY KIND, either express or implied.\n",
              "// See the License for the specific language governing permissions and\n",
              "// limitations under the License.\n",
              "\n",
              "/**\n",
              " * @fileoverview Helpers for google.colab Python module.\n",
              " */\n",
              "(function(scope) {\n",
              "function span(text, styleAttributes = {}) {\n",
              "  const element = document.createElement('span');\n",
              "  element.textContent = text;\n",
              "  for (const key of Object.keys(styleAttributes)) {\n",
              "    element.style[key] = styleAttributes[key];\n",
              "  }\n",
              "  return element;\n",
              "}\n",
              "\n",
              "// Max number of bytes which will be uploaded at a time.\n",
              "const MAX_PAYLOAD_SIZE = 100 * 1024;\n",
              "\n",
              "function _uploadFiles(inputId, outputId) {\n",
              "  const steps = uploadFilesStep(inputId, outputId);\n",
              "  const outputElement = document.getElementById(outputId);\n",
              "  // Cache steps on the outputElement to make it available for the next call\n",
              "  // to uploadFilesContinue from Python.\n",
              "  outputElement.steps = steps;\n",
              "\n",
              "  return _uploadFilesContinue(outputId);\n",
              "}\n",
              "\n",
              "// This is roughly an async generator (not supported in the browser yet),\n",
              "// where there are multiple asynchronous steps and the Python side is going\n",
              "// to poll for completion of each step.\n",
              "// This uses a Promise to block the python side on completion of each step,\n",
              "// then passes the result of the previous step as the input to the next step.\n",
              "function _uploadFilesContinue(outputId) {\n",
              "  const outputElement = document.getElementById(outputId);\n",
              "  const steps = outputElement.steps;\n",
              "\n",
              "  const next = steps.next(outputElement.lastPromiseValue);\n",
              "  return Promise.resolve(next.value.promise).then((value) => {\n",
              "    // Cache the last promise value to make it available to the next\n",
              "    // step of the generator.\n",
              "    outputElement.lastPromiseValue = value;\n",
              "    return next.value.response;\n",
              "  });\n",
              "}\n",
              "\n",
              "/**\n",
              " * Generator function which is called between each async step of the upload\n",
              " * process.\n",
              " * @param {string} inputId Element ID of the input file picker element.\n",
              " * @param {string} outputId Element ID of the output display.\n",
              " * @return {!Iterable<!Object>} Iterable of next steps.\n",
              " */\n",
              "function* uploadFilesStep(inputId, outputId) {\n",
              "  const inputElement = document.getElementById(inputId);\n",
              "  inputElement.disabled = false;\n",
              "\n",
              "  const outputElement = document.getElementById(outputId);\n",
              "  outputElement.innerHTML = '';\n",
              "\n",
              "  const pickedPromise = new Promise((resolve) => {\n",
              "    inputElement.addEventListener('change', (e) => {\n",
              "      resolve(e.target.files);\n",
              "    });\n",
              "  });\n",
              "\n",
              "  const cancel = document.createElement('button');\n",
              "  inputElement.parentElement.appendChild(cancel);\n",
              "  cancel.textContent = 'Cancel upload';\n",
              "  const cancelPromise = new Promise((resolve) => {\n",
              "    cancel.onclick = () => {\n",
              "      resolve(null);\n",
              "    };\n",
              "  });\n",
              "\n",
              "  // Wait for the user to pick the files.\n",
              "  const files = yield {\n",
              "    promise: Promise.race([pickedPromise, cancelPromise]),\n",
              "    response: {\n",
              "      action: 'starting',\n",
              "    }\n",
              "  };\n",
              "\n",
              "  cancel.remove();\n",
              "\n",
              "  // Disable the input element since further picks are not allowed.\n",
              "  inputElement.disabled = true;\n",
              "\n",
              "  if (!files) {\n",
              "    return {\n",
              "      response: {\n",
              "        action: 'complete',\n",
              "      }\n",
              "    };\n",
              "  }\n",
              "\n",
              "  for (const file of files) {\n",
              "    const li = document.createElement('li');\n",
              "    li.append(span(file.name, {fontWeight: 'bold'}));\n",
              "    li.append(span(\n",
              "        `(${file.type || 'n/a'}) - ${file.size} bytes, ` +\n",
              "        `last modified: ${\n",
              "            file.lastModifiedDate ? file.lastModifiedDate.toLocaleDateString() :\n",
              "                                    'n/a'} - `));\n",
              "    const percent = span('0% done');\n",
              "    li.appendChild(percent);\n",
              "\n",
              "    outputElement.appendChild(li);\n",
              "\n",
              "    const fileDataPromise = new Promise((resolve) => {\n",
              "      const reader = new FileReader();\n",
              "      reader.onload = (e) => {\n",
              "        resolve(e.target.result);\n",
              "      };\n",
              "      reader.readAsArrayBuffer(file);\n",
              "    });\n",
              "    // Wait for the data to be ready.\n",
              "    let fileData = yield {\n",
              "      promise: fileDataPromise,\n",
              "      response: {\n",
              "        action: 'continue',\n",
              "      }\n",
              "    };\n",
              "\n",
              "    // Use a chunked sending to avoid message size limits. See b/62115660.\n",
              "    let position = 0;\n",
              "    do {\n",
              "      const length = Math.min(fileData.byteLength - position, MAX_PAYLOAD_SIZE);\n",
              "      const chunk = new Uint8Array(fileData, position, length);\n",
              "      position += length;\n",
              "\n",
              "      const base64 = btoa(String.fromCharCode.apply(null, chunk));\n",
              "      yield {\n",
              "        response: {\n",
              "          action: 'append',\n",
              "          file: file.name,\n",
              "          data: base64,\n",
              "        },\n",
              "      };\n",
              "\n",
              "      let percentDone = fileData.byteLength === 0 ?\n",
              "          100 :\n",
              "          Math.round((position / fileData.byteLength) * 100);\n",
              "      percent.textContent = `${percentDone}% done`;\n",
              "\n",
              "    } while (position < fileData.byteLength);\n",
              "  }\n",
              "\n",
              "  // All done.\n",
              "  yield {\n",
              "    response: {\n",
              "      action: 'complete',\n",
              "    }\n",
              "  };\n",
              "}\n",
              "\n",
              "scope.google = scope.google || {};\n",
              "scope.google.colab = scope.google.colab || {};\n",
              "scope.google.colab._files = {\n",
              "  _uploadFiles,\n",
              "  _uploadFilesContinue,\n",
              "};\n",
              "})(self);\n",
              "</script> "
            ]
          },
          "metadata": {}
        },
        {
          "output_type": "stream",
          "name": "stdout",
          "text": [
            "Saving hw3.pickle to hw3 (1).pickle\n"
          ]
        }
      ]
    },
    {
      "cell_type": "markdown",
      "metadata": {
        "id": "S1cKAkA1lKdt"
      },
      "source": [
        "We have run the training data through the neural network once so far. One training pass through the data is called an epoch. Most neural networks require several epochs (ie. several passes through the training data) to converge. This is due to how gradient descent works: each training example updates the weights by a small amount, so it takes a large number of updates to get anywhere.\n",
        "\n",
        "If you have time, run the training snippet again multiple times to improve performance. (While it is possible to overfit by running too many epochs, it is unlikely that you will run into this problem in the amount of time alotted for this assignment.) You will need at least four to five epochs before you start to see good performance."
      ]
    },
    {
      "cell_type": "markdown",
      "metadata": {
        "id": "-x1N6qeCqm_y"
      },
      "source": [
        "# Using and Evaluating Embeddings --- 10 points"
      ]
    },
    {
      "cell_type": "markdown",
      "metadata": {
        "id": "9AopEAvYqpHi"
      },
      "source": [
        "Now that we have a trained model, we can use the embedding layer $\\mathbf{E}$ to get word embeddings for any word in the vocabulary."
      ]
    },
    {
      "cell_type": "code",
      "metadata": {
        "id": "-OYWAE_9qwzC"
      },
      "source": [
        "embedding_matrix = model.E"
      ],
      "execution_count": 13,
      "outputs": []
    },
    {
      "cell_type": "markdown",
      "metadata": {
        "id": "f6AQB3a-sGPz"
      },
      "source": [
        "We are going to run an intrinsic evaluation on our learned embeddings. The task is word similarity using the WordSim353 dataset from [Finkelstein et al. (2002)](https://dl.acm.org/doi/10.1145/503104.503110). The test data is in the provided file `wordsim1.tab`. The following code snippet prompts you to upload the file and then reads in the test data as a pair of lists `[(word1, word2)]` and `[gold_similarity_score]`."
      ]
    },
    {
      "cell_type": "code",
      "metadata": {
        "id": "TlSd2uKys2Kd",
        "outputId": "351035c6-32c4-4eec-9b14-170c3b041096",
        "colab": {
          "base_uri": "https://localhost:8080/",
          "height": 108
        }
      },
      "source": [
        "from google.colab import files\n",
        "\n",
        "uploaded_files = files.upload()\n",
        "file_content = str(list(uploaded_files.values())[0], 'utf-8')\n",
        "\n",
        "word_pairs, gold_scores = [], []\n",
        "for line in file_content.split('\\n')[1:]:\n",
        "  if len(line) == 0:\n",
        "    continue\n",
        "\n",
        "  line = line.split()\n",
        "  word_pairs.append((line[0].lower(), line[1].lower()))\n",
        "  gold_scores.append(float(line[2]))\n",
        "\n",
        "print(word_pairs[0])\n",
        "print(gold_scores[0])"
      ],
      "execution_count": 14,
      "outputs": [
        {
          "output_type": "display_data",
          "data": {
            "text/plain": [
              "<IPython.core.display.HTML object>"
            ],
            "text/html": [
              "\n",
              "     <input type=\"file\" id=\"files-636e096d-3b0b-4fb9-b2b3-ccc0555831cd\" name=\"files[]\" multiple disabled\n",
              "        style=\"border:none\" />\n",
              "     <output id=\"result-636e096d-3b0b-4fb9-b2b3-ccc0555831cd\">\n",
              "      Upload widget is only available when the cell has been executed in the\n",
              "      current browser session. Please rerun this cell to enable.\n",
              "      </output>\n",
              "      <script>// Copyright 2017 Google LLC\n",
              "//\n",
              "// Licensed under the Apache License, Version 2.0 (the \"License\");\n",
              "// you may not use this file except in compliance with the License.\n",
              "// You may obtain a copy of the License at\n",
              "//\n",
              "//      http://www.apache.org/licenses/LICENSE-2.0\n",
              "//\n",
              "// Unless required by applicable law or agreed to in writing, software\n",
              "// distributed under the License is distributed on an \"AS IS\" BASIS,\n",
              "// WITHOUT WARRANTIES OR CONDITIONS OF ANY KIND, either express or implied.\n",
              "// See the License for the specific language governing permissions and\n",
              "// limitations under the License.\n",
              "\n",
              "/**\n",
              " * @fileoverview Helpers for google.colab Python module.\n",
              " */\n",
              "(function(scope) {\n",
              "function span(text, styleAttributes = {}) {\n",
              "  const element = document.createElement('span');\n",
              "  element.textContent = text;\n",
              "  for (const key of Object.keys(styleAttributes)) {\n",
              "    element.style[key] = styleAttributes[key];\n",
              "  }\n",
              "  return element;\n",
              "}\n",
              "\n",
              "// Max number of bytes which will be uploaded at a time.\n",
              "const MAX_PAYLOAD_SIZE = 100 * 1024;\n",
              "\n",
              "function _uploadFiles(inputId, outputId) {\n",
              "  const steps = uploadFilesStep(inputId, outputId);\n",
              "  const outputElement = document.getElementById(outputId);\n",
              "  // Cache steps on the outputElement to make it available for the next call\n",
              "  // to uploadFilesContinue from Python.\n",
              "  outputElement.steps = steps;\n",
              "\n",
              "  return _uploadFilesContinue(outputId);\n",
              "}\n",
              "\n",
              "// This is roughly an async generator (not supported in the browser yet),\n",
              "// where there are multiple asynchronous steps and the Python side is going\n",
              "// to poll for completion of each step.\n",
              "// This uses a Promise to block the python side on completion of each step,\n",
              "// then passes the result of the previous step as the input to the next step.\n",
              "function _uploadFilesContinue(outputId) {\n",
              "  const outputElement = document.getElementById(outputId);\n",
              "  const steps = outputElement.steps;\n",
              "\n",
              "  const next = steps.next(outputElement.lastPromiseValue);\n",
              "  return Promise.resolve(next.value.promise).then((value) => {\n",
              "    // Cache the last promise value to make it available to the next\n",
              "    // step of the generator.\n",
              "    outputElement.lastPromiseValue = value;\n",
              "    return next.value.response;\n",
              "  });\n",
              "}\n",
              "\n",
              "/**\n",
              " * Generator function which is called between each async step of the upload\n",
              " * process.\n",
              " * @param {string} inputId Element ID of the input file picker element.\n",
              " * @param {string} outputId Element ID of the output display.\n",
              " * @return {!Iterable<!Object>} Iterable of next steps.\n",
              " */\n",
              "function* uploadFilesStep(inputId, outputId) {\n",
              "  const inputElement = document.getElementById(inputId);\n",
              "  inputElement.disabled = false;\n",
              "\n",
              "  const outputElement = document.getElementById(outputId);\n",
              "  outputElement.innerHTML = '';\n",
              "\n",
              "  const pickedPromise = new Promise((resolve) => {\n",
              "    inputElement.addEventListener('change', (e) => {\n",
              "      resolve(e.target.files);\n",
              "    });\n",
              "  });\n",
              "\n",
              "  const cancel = document.createElement('button');\n",
              "  inputElement.parentElement.appendChild(cancel);\n",
              "  cancel.textContent = 'Cancel upload';\n",
              "  const cancelPromise = new Promise((resolve) => {\n",
              "    cancel.onclick = () => {\n",
              "      resolve(null);\n",
              "    };\n",
              "  });\n",
              "\n",
              "  // Wait for the user to pick the files.\n",
              "  const files = yield {\n",
              "    promise: Promise.race([pickedPromise, cancelPromise]),\n",
              "    response: {\n",
              "      action: 'starting',\n",
              "    }\n",
              "  };\n",
              "\n",
              "  cancel.remove();\n",
              "\n",
              "  // Disable the input element since further picks are not allowed.\n",
              "  inputElement.disabled = true;\n",
              "\n",
              "  if (!files) {\n",
              "    return {\n",
              "      response: {\n",
              "        action: 'complete',\n",
              "      }\n",
              "    };\n",
              "  }\n",
              "\n",
              "  for (const file of files) {\n",
              "    const li = document.createElement('li');\n",
              "    li.append(span(file.name, {fontWeight: 'bold'}));\n",
              "    li.append(span(\n",
              "        `(${file.type || 'n/a'}) - ${file.size} bytes, ` +\n",
              "        `last modified: ${\n",
              "            file.lastModifiedDate ? file.lastModifiedDate.toLocaleDateString() :\n",
              "                                    'n/a'} - `));\n",
              "    const percent = span('0% done');\n",
              "    li.appendChild(percent);\n",
              "\n",
              "    outputElement.appendChild(li);\n",
              "\n",
              "    const fileDataPromise = new Promise((resolve) => {\n",
              "      const reader = new FileReader();\n",
              "      reader.onload = (e) => {\n",
              "        resolve(e.target.result);\n",
              "      };\n",
              "      reader.readAsArrayBuffer(file);\n",
              "    });\n",
              "    // Wait for the data to be ready.\n",
              "    let fileData = yield {\n",
              "      promise: fileDataPromise,\n",
              "      response: {\n",
              "        action: 'continue',\n",
              "      }\n",
              "    };\n",
              "\n",
              "    // Use a chunked sending to avoid message size limits. See b/62115660.\n",
              "    let position = 0;\n",
              "    do {\n",
              "      const length = Math.min(fileData.byteLength - position, MAX_PAYLOAD_SIZE);\n",
              "      const chunk = new Uint8Array(fileData, position, length);\n",
              "      position += length;\n",
              "\n",
              "      const base64 = btoa(String.fromCharCode.apply(null, chunk));\n",
              "      yield {\n",
              "        response: {\n",
              "          action: 'append',\n",
              "          file: file.name,\n",
              "          data: base64,\n",
              "        },\n",
              "      };\n",
              "\n",
              "      let percentDone = fileData.byteLength === 0 ?\n",
              "          100 :\n",
              "          Math.round((position / fileData.byteLength) * 100);\n",
              "      percent.textContent = `${percentDone}% done`;\n",
              "\n",
              "    } while (position < fileData.byteLength);\n",
              "  }\n",
              "\n",
              "  // All done.\n",
              "  yield {\n",
              "    response: {\n",
              "      action: 'complete',\n",
              "    }\n",
              "  };\n",
              "}\n",
              "\n",
              "scope.google = scope.google || {};\n",
              "scope.google.colab = scope.google.colab || {};\n",
              "scope.google.colab._files = {\n",
              "  _uploadFiles,\n",
              "  _uploadFilesContinue,\n",
              "};\n",
              "})(self);\n",
              "</script> "
            ]
          },
          "metadata": {}
        },
        {
          "output_type": "stream",
          "name": "stdout",
          "text": [
            "Saving wordsim1.tab to wordsim1.tab\n",
            "('love', 'sex')\n",
            "6.77\n"
          ]
        }
      ]
    },
    {
      "cell_type": "markdown",
      "metadata": {
        "id": "Xs-Bi7qAw2d0"
      },
      "source": [
        "To evaluate the quality of our word embeddings, we need to use them to score the similarity of the word pairs in the test data. We can then compare our embedding-based similarity scores to the human-annotated, gold standard similarity scores.\n",
        "\n",
        "We will use the cosine similarity between our word embeddings to predict the word similarity. Recall that cosine similarity is\n",
        "\n",
        "$\\cos(v, w) = \\cfrac{v \\cdot w}{|v| |w|}$\n",
        "\n",
        "Fill in the code snippet below to implement cosine similarity. (HINT: PyTorch provides functions `torch.dot()` and `torch.norm()` implementing the linear algebra operations.)\n",
        "\n",
        "One thing to keep in mind is, since our embeddings are `torch.Tensor`'s, the output of any calculation done with them will also be a `torch.Tensor`. Thus, the result of calculating cosine similiarity will be a `torch.Tensor` containing just one scalar value; use `item()` to get the raw value out before returning it."
      ]
    },
    {
      "cell_type": "code",
      "metadata": {
        "id": "HCsgTh0FcA2x"
      },
      "source": [
        "# Fill in this code snippet to implement cosine similarity between word embeddings\n",
        "# The arguments embedding1 and embedding2 are torch.Tensors\n",
        "# The return type should be a float\n",
        "def get_cosine_similarity(embedding1, embedding2):\n",
        "  dot_product = torch.dot(embedding1, embedding2)\n",
        "\n",
        "  norm1 = torch.norm(embedding1)\n",
        "  norm2 = torch.norm(embedding2)\n",
        "\n",
        "  cosine_similarity = dot_product / (norm1 * norm2)\n",
        "\n",
        "  return cosine_similarity.item()"
      ],
      "execution_count": 15,
      "outputs": []
    },
    {
      "cell_type": "markdown",
      "metadata": {
        "id": "tDYH6F4HesZu"
      },
      "source": [
        "Finally, we are ready to evaluate. Since we are comparing similarity scores, which are continuous values, rather than class labels like in a classification problem, the familiar precision, recall, and F-measure metrics don't make sense here.\n",
        "\n",
        "Instead, we will use Spearman's $\\rho$, which measures rank correlation. This metric doesn't care what actual number we output as our similarity score, only that, if word pair A has a higher gold standard similarity score than word pair B, then we should predict a higher similarity score for word pair A than for word pair B. In other words, as long as our scores would sort the word pairs in the same order as the gold standard scores, we will get a high $\\rho$.\n",
        "\n",
        "We need to iterate through the test set, getting the word embeddings for each word pair and calculating the cosine similarity. Then we compare the list of gold standard similarity scores with our predicted similarity scores using `scipy.stats.spearmanr()`; see [the documentation here](https://docs.scipy.org/doc/scipy/reference/generated/scipy.stats.spearmanr.html). Fill in the following code snippet to do this:"
      ]
    },
    {
      "cell_type": "code",
      "source": [
        "import tensorflow as tf"
      ],
      "metadata": {
        "id": "l9lmxfVDI4e5"
      },
      "execution_count": 24,
      "outputs": []
    },
    {
      "cell_type": "code",
      "metadata": {
        "id": "_kEBkO01ftgi",
        "outputId": "d0641d06-167b-4e9c-c7bf-25e5b247f25e",
        "colab": {
          "base_uri": "https://localhost:8080/"
        }
      },
      "source": [
        "from scipy.stats import spearmanr\n",
        "\n",
        "# Fill in this code snippet to evaluate the learned embeddings\n",
        "# The argument word_pairs is a list of tuples of strings\n",
        "# The argument gold_scores is a list of floats\n",
        "# The argument embedding matrix is a torch.Tensor\n",
        "# The argument vocabulary is a dictionary {string: int}\n",
        "# The return type should be a scipy.stats.SpearmanrResult\n",
        "def evaluate_wordsim(word_pairs, gold_scores, embedding_matrix, vocabulary):\n",
        "  predicted_scores = []\n",
        "  embedding_matrix = torch.transpose(embedding_matrix,0,1)\n",
        "  # print(len(embedding_matrix))\n",
        "  for word1, word2 in word_pairs:\n",
        "      if word1 in vocabulary and word2 in vocabulary:\n",
        "          idx1 = vocabulary[word1]\n",
        "          idx2 = vocabulary[word2]\n",
        "          # print(len(embedding_matrix[0]))\n",
        "          # print(len(embedding_matrix[1]))\n",
        "          embedding1 = embedding_matrix[idx1]\n",
        "          embedding2 = embedding_matrix[idx2]\n",
        "          cosine_sim = get_cosine_similarity(embedding1, embedding2)\n",
        "          predicted_scores.append(cosine_sim)\n",
        "      else:\n",
        "          predicted_scores.append(0.0)\n",
        "\n",
        "  ans = spearmanr(gold_scores, predicted_scores)\n",
        "\n",
        "  return ans\n",
        "\n",
        "print(evaluate_wordsim(word_pairs, gold_scores, embedding_matrix, vocabulary))"
      ],
      "execution_count": 32,
      "outputs": [
        {
          "output_type": "stream",
          "name": "stdout",
          "text": [
            "SignificanceResult(statistic=0.03832798870174025, pvalue=0.6380864016550558)\n"
          ]
        }
      ]
    },
    {
      "cell_type": "markdown",
      "metadata": {
        "id": "AtAPqxbXmD8-"
      },
      "source": [
        "All done! Make sure your model is saved, and use the \"File\" menu to download this notebook for GradeScope submission."
      ]
    }
  ]
}